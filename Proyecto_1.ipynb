{
  "nbformat": 4,
  "nbformat_minor": 0,
  "metadata": {
    "colab": {
      "provenance": [],
      "include_colab_link": true
    },
    "kernelspec": {
      "name": "python3",
      "display_name": "Python 3"
    },
    "language_info": {
      "name": "python"
    }
  },
  "cells": [
    {
      "cell_type": "markdown",
      "metadata": {
        "id": "view-in-github",
        "colab_type": "text"
      },
      "source": [
        "<a href=\"https://colab.research.google.com/github/ximeenaa/REposotoriio/blob/main/Proyecto_1.ipynb\" target=\"_parent\"><img src=\"https://colab.research.google.com/assets/colab-badge.svg\" alt=\"Open In Colab\"/></a>"
      ]
    },
    {
      "cell_type": "code",
      "execution_count": null,
      "metadata": {
        "id": "VhSxO80TN3z6"
      },
      "outputs": [],
      "source": [
        "import numpy as np"
      ]
    },
    {
      "cell_type": "code",
      "source": [
        "import pandas as pd"
      ],
      "metadata": {
        "id": "DkOMSqVVWzF_"
      },
      "execution_count": null,
      "outputs": []
    },
    {
      "cell_type": "code",
      "source": [
        "from google.colab import drive\n",
        "drive.mount('/content/drive')"
      ],
      "metadata": {
        "colab": {
          "base_uri": "https://localhost:8080/"
        },
        "id": "FYuhISzSODr2",
        "outputId": "20981b23-4ea3-407f-f3fc-d93236455fcd"
      },
      "execution_count": null,
      "outputs": [
        {
          "output_type": "stream",
          "name": "stdout",
          "text": [
            "Mounted at /content/drive\n"
          ]
        }
      ]
    },
    {
      "source": [
        "class Grafica():\n",
        "  #Para la matriz de ayacencia\n",
        "  def __init__(self, nodos, arcos):\n",
        "    #Descripción del constructor\n",
        "    self.matriz = np.zeros((len(nodos),len(nodos)))\n",
        "    for x in arcos:\n",
        "      self.matriz[x[0],x[1]] = 1\n",
        "\n",
        "  def __str__(self):\n",
        "    return str(self.matriz)"
      ],
      "cell_type": "code",
      "metadata": {
        "id": "87lKbyM7OVQB"
      },
      "execution_count": null,
      "outputs": []
    },
    {
      "cell_type": "code",
      "source": [
        "def construccion_pd(nombre_del_archivo):\n",
        "\n",
        "#Cargamos el archivo de excel de las páginas citadas\n",
        "  df = pd.read_excel(\"/content/drive/MyDrive/paginas_citadas.xlsx\")\n",
        "  Nodos = (list(range(len(df[\"Index\"]))))\n",
        "  x = list(df[\"Cited by\"])\n",
        "  Arcos = []\n",
        "  for i in range(len(x)):\n",
        "    for j in x[i].split(','):\n",
        "      Arcos.append((int(j) - 1,i))\n",
        "  return Grafica(Nodos, Arcos)"
      ],
      "metadata": {
        "colab": {
          "base_uri": "https://localhost:8080/"
        },
        "id": "zhx_MsKyX_vS",
        "outputId": "efb519ee-2d9b-49c2-fa5e-47cf5beec04f"
      },
      "execution_count": null,
      "outputs": [
        {
          "output_type": "stream",
          "name": "stdout",
          "text": [
            "Vector de PageRank π: [[6.80287478e-07 9.44047079e-07 5.87562891e-07 1.26244154e-06\n",
            "  4.96032355e-07 7.61311970e-07 1.27097374e-06 7.73618626e-07\n",
            "  1.02201721e-06 8.91209680e-07 4.68015894e-07 4.86143523e-07\n",
            "  6.99637988e-07 7.02884883e-07 9.02997389e-07 3.60576923e-02\n",
            "  3.60576923e-02 3.60576923e-02 3.60576923e-02 4.80769231e-02\n",
            "  3.60576923e-02 3.60576923e-02 3.60576923e-02 4.80769231e-02\n",
            "  3.60576923e-02 6.15372666e-01]]\n"
          ]
        }
      ]
    },
    {
      "cell_type": "code",
      "source": [
        "#Obtenemos la matriz\n",
        "matrix = construccion_pd(\"paginas_citadas.xlsx\").matriz\n",
        "\n",
        "#Aqui normalizamos la matriz para que los valores esten entre el 0 y 1\n",
        "for i in range(len(matrix)):\n",
        "  matrix[i, :] = matrix[i, :]/matrix[i, :].sum()\n",
        "\n",
        "\n",
        "# Definimos el vector 1/n\n",
        "pi = np.ones((1, len(matrix))) / len(matrix)\n",
        "pi_1 = pi @ matrix\n",
        "\n",
        "# multiplica por el vector hasta que el valor converge\n",
        "while np.linalg.norm(pi - pi_1) > 1e-6:\n",
        "    pi = pi_1\n",
        "    pi_1 = pi @ matrix\n",
        "\n",
        "print(pi_1)"
      ],
      "metadata": {
        "id": "R9-OR17jYJPL",
        "outputId": "63ae0d96-cc5e-4034-dc98-fb8d30b876db",
        "colab": {
          "base_uri": "https://localhost:8080/",
          "height": 211
        }
      },
      "execution_count": null,
      "outputs": [
        {
          "output_type": "error",
          "ename": "NameError",
          "evalue": "name 'construccion_pd' is not defined",
          "traceback": [
            "\u001b[0;31m---------------------------------------------------------------------------\u001b[0m",
            "\u001b[0;31mNameError\u001b[0m                                 Traceback (most recent call last)",
            "\u001b[0;32m<ipython-input-5-af154863b408>\u001b[0m in \u001b[0;36m<cell line: 2>\u001b[0;34m()\u001b[0m\n\u001b[1;32m      1\u001b[0m \u001b[0;31m#Obtenemos la matriz\u001b[0m\u001b[0;34m\u001b[0m\u001b[0;34m\u001b[0m\u001b[0m\n\u001b[0;32m----> 2\u001b[0;31m \u001b[0mmatriz\u001b[0m \u001b[0;34m=\u001b[0m \u001b[0mconstruccion_pd\u001b[0m\u001b[0;34m(\u001b[0m\u001b[0;34m\"paginas_citadas.xlsx\"\u001b[0m\u001b[0;34m)\u001b[0m\u001b[0;34m.\u001b[0m\u001b[0mmatriz\u001b[0m\u001b[0;34m\u001b[0m\u001b[0;34m\u001b[0m\u001b[0m\n\u001b[0m\u001b[1;32m      3\u001b[0m \u001b[0;34m\u001b[0m\u001b[0m\n\u001b[1;32m      4\u001b[0m \u001b[0;31m#Aqui normalizamos la matriz para que los valores esten entre el 0 y 1\u001b[0m\u001b[0;34m\u001b[0m\u001b[0;34m\u001b[0m\u001b[0m\n\u001b[1;32m      5\u001b[0m \u001b[0;32mfor\u001b[0m \u001b[0mi\u001b[0m \u001b[0;32min\u001b[0m \u001b[0mrange\u001b[0m\u001b[0;34m(\u001b[0m\u001b[0mlen\u001b[0m\u001b[0;34m(\u001b[0m\u001b[0mmatriz\u001b[0m\u001b[0;34m)\u001b[0m\u001b[0;34m)\u001b[0m\u001b[0;34m:\u001b[0m\u001b[0;34m\u001b[0m\u001b[0;34m\u001b[0m\u001b[0m\n",
            "\u001b[0;31mNameError\u001b[0m: name 'construccion_pd' is not defined"
          ]
        }
      ]
    }
  ]
}